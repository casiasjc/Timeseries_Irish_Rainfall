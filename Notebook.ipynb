{
 "cells": [
  {
   "cell_type": "markdown",
   "id": "1901a0d8",
   "metadata": {},
   "source": [
    "# Brainstorming"
   ]
  },
  {
   "cell_type": "markdown",
   "id": "3b969572",
   "metadata": {},
   "source": [
    "(Timeseries) Rainfall in Ireland\n",
    "- 4,660,423 rows × 18 columns\n",
    "- [Ideas](https://www.kaggle.com/datasets/dariasvasileva/hourly-weather-data-in-ireland-from-24-stations)\n",
    "    - EDA\n",
    "        - What are the most prominent seasonal weather patterns in Ireland?\n",
    "        - How does the weather conditions affect city life?\n",
    "            - [Pedestrian footfall](https://data.smartdublin.ie/dataset/dublin-city-centre-footfall-counters)\n",
    "            - [Bikeshare sevices](https://data.smartdublin.ie/dataset/bleeperbike)\n",
    "            - Road accidents\n",
    "            - Taxi \n",
    "    - For ML and Neural Networks modeling:\n",
    "        - Can you predict the probability of rain using weather data obtained from a single station in the previous 24, 36 or 48 hours?\n",
    "        - How does the addition of data recorded by neighbouring stations affect the accuracy of the model?\n",
    "        \n",
    "**To do:** Build a model that can predict the probability of rain using weather data obtained from a single station in the previous 12, 24, 36, or 48 hours.  \n",
    "\n"
   ]
  },
  {
   "cell_type": "markdown",
   "id": "3b1aa515",
   "metadata": {},
   "source": [
    "**Data**\n",
    "\n",
    "This dataset contains data from 25 stations across 15 counties in Ireland. Hourly data is available for these weather stations from the start of their record keeping until the end of 2018. All data was sourced from the Irish Meteorological Service - Met Éireann.\n",
    "\n",
    "Met Éireann is a scientific organization that undertakes research in numerous fields such as Numerical Weather Prediction and Climate Modeling. \n",
    "\n",
    "**Variables measured by stations**\n",
    "* `date`: Date and Time of observation\n",
    "* `ind`: Encoded Rainfall Indicators (see KeyHourly.txt for details)\n",
    "* `rain`: Precipitation Amount, mm\n",
    "* `ind.1`: Encoded Temperature Indicators (see KeyHourly.txt for details)\n",
    "* `temp`: Air Temperature, °C\n",
    "* `ind.2`: Encoded Wet Bulb Indicators (see KeyHourly.txt for details)\n",
    "* `wetb`: Wet Bulb Air Temperature, °C\n",
    "* `dewpt`: Dew Point Air Temperature, °C\n",
    "* `vappr`: Vapour Pressure, hPa\n",
    "* `rhum`: Relative Humidity, %\n",
    "* `msl`: Mean Sea Level Pressure, hPa\n",
    "* `ind.3`: Encoded Wind Speed Indicators (see KeyHourly.txt for details)\n",
    "* `wdsp`: Mean Hourly Wind Speed, knot\n",
    "* `ind.4`: Encoded Wind Direction Indicators (see KeyHourly.txt for details)\n",
    "* `wddir`: Predominant Hourly wind Direction, degree\n",
    "* `ww`: Synop Code Present Weather (see KeyHourly.txt for details)\n",
    "* `w`: Synop Code Past Weather (see KeyHourly.txt for details)\n",
    "* `sun`: Sunshine duration, hours\n",
    "* `vis`: Visibility, m\n",
    "* `clht`: Cloud Ceiling Height (if none value is 999), 100s of feet\n",
    "* `clamt`: Cloud Amount, okta\n",
    "\n",
    "**Wikipedia page for \"Wind direction\"**\n",
    "\"Wind direction is usually reported in cardinal (or compass) direction, or in degrees. Consequently, a wind blowing from the north has a wind direction referred to as 0° (360°); a wind blowing from the east has a wind direction referred to as 90°, etc.\"\n",
    "\n",
    "\n",
    "[Table: Common Cardinal (or compass) direction vs degrees](https://uni.edu/storm/Wind%20Direction%20slide.pdf)\n",
    "\n",
    "**Information on the stations:**\n",
    "\n",
    "* `county`: County the station is located in\n",
    "* `st_id`: Station number\n",
    "* `st_name`: Station name\n",
    "* `st_height`: Station Height, m\n",
    "* `st_lat`: Station Latitude, sexagesimal degrees (degrees, minutes, and seconds - DMS notation)\n",
    "* `st_long`: Station Longitude, sexagesimal degrees (degrees, minutes, and seconds - DMS notation)\n",
    "\n",
    "Latitude and longitude are presented in sexagesimal degrees (degrees, minutes, and seconds - DMS notation). To convert them into decimal degrees (DD) which are used in GIS and GPS apply the following formula: DD = D + M/60 + S/3600. More details can be found [here](https://en.wikipedia.org/wiki/Decimal_degrees)."
   ]
  },
  {
   "cell_type": "code",
   "execution_count": 1,
   "id": "f714d1d2",
   "metadata": {},
   "outputs": [],
   "source": [
    "# Import libraries\n",
    "import pandas as pd\n",
    "import numpy as np\n",
    "import statistics"
   ]
  },
  {
   "cell_type": "code",
   "execution_count": 2,
   "id": "67b4d714",
   "metadata": {},
   "outputs": [
    {
     "name": "stderr",
     "output_type": "stream",
     "text": [
      "/var/folders/lj/7nxfhmdd09gchghpg0g2z8vc0000gn/T/ipykernel_1885/3376773213.py:1: DtypeWarning: Columns (5,6,7,8,9,10,11,12,13,14,15,16,17) have mixed types. Specify dtype option on import or set low_memory=False.\n",
      "  irish_rain = pd.read_csv('Data/hrly_Irish_weather.csv')\n"
     ]
    }
   ],
   "source": [
    "irish_rain = pd.read_csv('Data/hrly_Irish_weather.csv')\n",
    "irish_rain = irish_rain.sample(n=5000) # choose the number of rows you want to include"
   ]
  },
  {
   "cell_type": "code",
   "execution_count": 3,
   "id": "281738ef",
   "metadata": {},
   "outputs": [
    {
     "data": {
      "text/html": [
       "<div>\n",
       "<style scoped>\n",
       "    .dataframe tbody tr th:only-of-type {\n",
       "        vertical-align: middle;\n",
       "    }\n",
       "\n",
       "    .dataframe tbody tr th {\n",
       "        vertical-align: top;\n",
       "    }\n",
       "\n",
       "    .dataframe thead th {\n",
       "        text-align: right;\n",
       "    }\n",
       "</style>\n",
       "<table border=\"1\" class=\"dataframe\">\n",
       "  <thead>\n",
       "    <tr style=\"text-align: right;\">\n",
       "      <th></th>\n",
       "      <th>county</th>\n",
       "      <th>station</th>\n",
       "      <th>latitude</th>\n",
       "      <th>longitude</th>\n",
       "      <th>date</th>\n",
       "      <th>rain</th>\n",
       "      <th>temp</th>\n",
       "      <th>wetb</th>\n",
       "      <th>dewpt</th>\n",
       "      <th>vappr</th>\n",
       "      <th>rhum</th>\n",
       "      <th>msl</th>\n",
       "      <th>wdsp</th>\n",
       "      <th>wddir</th>\n",
       "      <th>sun</th>\n",
       "      <th>vis</th>\n",
       "      <th>clht</th>\n",
       "      <th>clamt</th>\n",
       "    </tr>\n",
       "  </thead>\n",
       "  <tbody>\n",
       "    <tr>\n",
       "      <th>2407687</th>\n",
       "      <td>Galway</td>\n",
       "      <td>MACE HEAD</td>\n",
       "      <td>53.326</td>\n",
       "      <td>-9.901</td>\n",
       "      <td>11-dec-2016 04:00</td>\n",
       "      <td>0.0</td>\n",
       "      <td>9.8</td>\n",
       "      <td>9.1</td>\n",
       "      <td>8.4</td>\n",
       "      <td>11.0</td>\n",
       "      <td>90</td>\n",
       "      <td>1021.5</td>\n",
       "      <td>14</td>\n",
       "      <td>240</td>\n",
       "      <td>NaN</td>\n",
       "      <td>NaN</td>\n",
       "      <td>NaN</td>\n",
       "      <td>NaN</td>\n",
       "    </tr>\n",
       "    <tr>\n",
       "      <th>4370022</th>\n",
       "      <td>Cork</td>\n",
       "      <td>SherkinIsland</td>\n",
       "      <td>51.476</td>\n",
       "      <td>-9.428</td>\n",
       "      <td>14-sep-2017 00:00</td>\n",
       "      <td>0.0</td>\n",
       "      <td>11.9</td>\n",
       "      <td>10.1</td>\n",
       "      <td>8.4</td>\n",
       "      <td>11.0</td>\n",
       "      <td>79</td>\n",
       "      <td>1010.0</td>\n",
       "      <td>13</td>\n",
       "      <td>290</td>\n",
       "      <td>NaN</td>\n",
       "      <td>NaN</td>\n",
       "      <td>NaN</td>\n",
       "      <td>NaN</td>\n",
       "    </tr>\n",
       "    <tr>\n",
       "      <th>3284022</th>\n",
       "      <td>Westmeath</td>\n",
       "      <td>MULLINGAR</td>\n",
       "      <td>53.537</td>\n",
       "      <td>-7.362</td>\n",
       "      <td>27-jun-2014 01:00</td>\n",
       "      <td>0.4</td>\n",
       "      <td>12.2</td>\n",
       "      <td>12.0</td>\n",
       "      <td>11.7</td>\n",
       "      <td>13.8</td>\n",
       "      <td>96</td>\n",
       "      <td>1010.1</td>\n",
       "      <td>5</td>\n",
       "      <td>80</td>\n",
       "      <td>NaN</td>\n",
       "      <td>NaN</td>\n",
       "      <td>NaN</td>\n",
       "      <td>NaN</td>\n",
       "    </tr>\n",
       "    <tr>\n",
       "      <th>3504523</th>\n",
       "      <td>Carlow</td>\n",
       "      <td>OAK PARK</td>\n",
       "      <td>52.861</td>\n",
       "      <td>-6.915</td>\n",
       "      <td>22-may-2007 14:00</td>\n",
       "      <td>0.0</td>\n",
       "      <td>17.8</td>\n",
       "      <td>14.0</td>\n",
       "      <td>10.8</td>\n",
       "      <td>13.0</td>\n",
       "      <td>63</td>\n",
       "      <td>1021.8</td>\n",
       "      <td>8</td>\n",
       "      <td>280</td>\n",
       "      <td>NaN</td>\n",
       "      <td>NaN</td>\n",
       "      <td>NaN</td>\n",
       "      <td>NaN</td>\n",
       "    </tr>\n",
       "    <tr>\n",
       "      <th>1147020</th>\n",
       "      <td>Cork</td>\n",
       "      <td>CORK AIRPORT</td>\n",
       "      <td>51.847</td>\n",
       "      <td>-8.486</td>\n",
       "      <td>03-jun-2005 22:00</td>\n",
       "      <td>0.0</td>\n",
       "      <td>10.5</td>\n",
       "      <td>9.8</td>\n",
       "      <td>9.0</td>\n",
       "      <td>11.5</td>\n",
       "      <td>91</td>\n",
       "      <td>1008.8</td>\n",
       "      <td>10</td>\n",
       "      <td>240</td>\n",
       "      <td>0.0</td>\n",
       "      <td>30000</td>\n",
       "      <td>999</td>\n",
       "      <td>3</td>\n",
       "    </tr>\n",
       "    <tr>\n",
       "      <th>...</th>\n",
       "      <td>...</td>\n",
       "      <td>...</td>\n",
       "      <td>...</td>\n",
       "      <td>...</td>\n",
       "      <td>...</td>\n",
       "      <td>...</td>\n",
       "      <td>...</td>\n",
       "      <td>...</td>\n",
       "      <td>...</td>\n",
       "      <td>...</td>\n",
       "      <td>...</td>\n",
       "      <td>...</td>\n",
       "      <td>...</td>\n",
       "      <td>...</td>\n",
       "      <td>...</td>\n",
       "      <td>...</td>\n",
       "      <td>...</td>\n",
       "      <td>...</td>\n",
       "    </tr>\n",
       "    <tr>\n",
       "      <th>1969936</th>\n",
       "      <td>Wexford</td>\n",
       "      <td>JOHNSTOWNII</td>\n",
       "      <td>52.298</td>\n",
       "      <td>-6.497</td>\n",
       "      <td>22-aug-2006 07:00</td>\n",
       "      <td>0.0</td>\n",
       "      <td>14.5</td>\n",
       "      <td>12.7</td>\n",
       "      <td>11.1</td>\n",
       "      <td>13.2</td>\n",
       "      <td>79</td>\n",
       "      <td>1018.6</td>\n",
       "      <td>2</td>\n",
       "      <td>250</td>\n",
       "      <td>NaN</td>\n",
       "      <td>NaN</td>\n",
       "      <td>NaN</td>\n",
       "      <td>NaN</td>\n",
       "    </tr>\n",
       "    <tr>\n",
       "      <th>3807551</th>\n",
       "      <td>Cork</td>\n",
       "      <td>ROCHES POINT</td>\n",
       "      <td>51.793</td>\n",
       "      <td>-8.244</td>\n",
       "      <td>08-dec-1999 21:00</td>\n",
       "      <td>0.0</td>\n",
       "      <td>6.0</td>\n",
       "      <td>4.8</td>\n",
       "      <td>3.3</td>\n",
       "      <td></td>\n",
       "      <td></td>\n",
       "      <td>992.6</td>\n",
       "      <td>20</td>\n",
       "      <td>250</td>\n",
       "      <td>NaN</td>\n",
       "      <td>NaN</td>\n",
       "      <td>NaN</td>\n",
       "      <td>NaN</td>\n",
       "    </tr>\n",
       "    <tr>\n",
       "      <th>1621951</th>\n",
       "      <td>Meath</td>\n",
       "      <td>DUNSANY</td>\n",
       "      <td>53.516</td>\n",
       "      <td>-6.660</td>\n",
       "      <td>06-oct-2016 17:00</td>\n",
       "      <td>0.0</td>\n",
       "      <td>12.1</td>\n",
       "      <td>9.5</td>\n",
       "      <td>6.7</td>\n",
       "      <td>9.8</td>\n",
       "      <td>69</td>\n",
       "      <td>1025.2</td>\n",
       "      <td>9</td>\n",
       "      <td>100</td>\n",
       "      <td>NaN</td>\n",
       "      <td>NaN</td>\n",
       "      <td>NaN</td>\n",
       "      <td>NaN</td>\n",
       "    </tr>\n",
       "    <tr>\n",
       "      <th>2126565</th>\n",
       "      <td>Mayo</td>\n",
       "      <td>KNOCK AIRPORT</td>\n",
       "      <td>53.906</td>\n",
       "      <td>-8.817</td>\n",
       "      <td>02-sep-2000 18:00</td>\n",
       "      <td>0.0</td>\n",
       "      <td>16.8</td>\n",
       "      <td>14.1</td>\n",
       "      <td>11.9</td>\n",
       "      <td>13.9</td>\n",
       "      <td>73</td>\n",
       "      <td>1016.1</td>\n",
       "      <td>3</td>\n",
       "      <td>70</td>\n",
       "      <td>0.0</td>\n",
       "      <td>40000</td>\n",
       "      <td>50</td>\n",
       "      <td>7</td>\n",
       "    </tr>\n",
       "    <tr>\n",
       "      <th>2459239</th>\n",
       "      <td>Donegal</td>\n",
       "      <td>MALIN HEAD</td>\n",
       "      <td>55.372</td>\n",
       "      <td>-7.339</td>\n",
       "      <td>30-may-1992 03:00</td>\n",
       "      <td>0.0</td>\n",
       "      <td>12.0</td>\n",
       "      <td>10.5</td>\n",
       "      <td>9.0</td>\n",
       "      <td>11.5</td>\n",
       "      <td>82</td>\n",
       "      <td>1012.3</td>\n",
       "      <td>23</td>\n",
       "      <td>100</td>\n",
       "      <td>0.0</td>\n",
       "      <td>20000</td>\n",
       "      <td>999</td>\n",
       "      <td>4</td>\n",
       "    </tr>\n",
       "  </tbody>\n",
       "</table>\n",
       "<p>5000 rows × 18 columns</p>\n",
       "</div>"
      ],
      "text/plain": [
       "            county        station  latitude  longitude               date   \n",
       "2407687     Galway      MACE HEAD    53.326     -9.901  11-dec-2016 04:00  \\\n",
       "4370022       Cork  SherkinIsland    51.476     -9.428  14-sep-2017 00:00   \n",
       "3284022  Westmeath      MULLINGAR    53.537     -7.362  27-jun-2014 01:00   \n",
       "3504523     Carlow       OAK PARK    52.861     -6.915  22-may-2007 14:00   \n",
       "1147020       Cork   CORK AIRPORT    51.847     -8.486  03-jun-2005 22:00   \n",
       "...            ...            ...       ...        ...                ...   \n",
       "1969936    Wexford    JOHNSTOWNII    52.298     -6.497  22-aug-2006 07:00   \n",
       "3807551       Cork   ROCHES POINT    51.793     -8.244  08-dec-1999 21:00   \n",
       "1621951      Meath        DUNSANY    53.516     -6.660  06-oct-2016 17:00   \n",
       "2126565       Mayo  KNOCK AIRPORT    53.906     -8.817  02-sep-2000 18:00   \n",
       "2459239    Donegal     MALIN HEAD    55.372     -7.339  30-may-1992 03:00   \n",
       "\n",
       "        rain  temp  wetb dewpt vappr rhum     msl wdsp wddir  sun    vis clht   \n",
       "2407687  0.0   9.8   9.1   8.4  11.0   90  1021.5   14   240  NaN    NaN  NaN  \\\n",
       "4370022  0.0  11.9  10.1   8.4  11.0   79  1010.0   13   290  NaN    NaN  NaN   \n",
       "3284022  0.4  12.2  12.0  11.7  13.8   96  1010.1    5    80  NaN    NaN  NaN   \n",
       "3504523  0.0  17.8  14.0  10.8  13.0   63  1021.8    8   280  NaN    NaN  NaN   \n",
       "1147020  0.0  10.5   9.8   9.0  11.5   91  1008.8   10   240  0.0  30000  999   \n",
       "...      ...   ...   ...   ...   ...  ...     ...  ...   ...  ...    ...  ...   \n",
       "1969936  0.0  14.5  12.7  11.1  13.2   79  1018.6    2   250  NaN    NaN  NaN   \n",
       "3807551  0.0   6.0   4.8   3.3              992.6   20   250  NaN    NaN  NaN   \n",
       "1621951  0.0  12.1   9.5   6.7   9.8   69  1025.2    9   100  NaN    NaN  NaN   \n",
       "2126565  0.0  16.8  14.1  11.9  13.9   73  1016.1    3    70  0.0  40000   50   \n",
       "2459239  0.0  12.0  10.5   9.0  11.5   82  1012.3   23   100  0.0  20000  999   \n",
       "\n",
       "        clamt  \n",
       "2407687   NaN  \n",
       "4370022   NaN  \n",
       "3284022   NaN  \n",
       "3504523   NaN  \n",
       "1147020     3  \n",
       "...       ...  \n",
       "1969936   NaN  \n",
       "3807551   NaN  \n",
       "1621951   NaN  \n",
       "2126565     7  \n",
       "2459239     4  \n",
       "\n",
       "[5000 rows x 18 columns]"
      ]
     },
     "execution_count": 3,
     "metadata": {},
     "output_type": "execute_result"
    }
   ],
   "source": [
    "irish_rain"
   ]
  },
  {
   "cell_type": "markdown",
   "id": "1ac89e14",
   "metadata": {},
   "source": [
    "## Data Preprocessing"
   ]
  },
  {
   "cell_type": "markdown",
   "id": "8befd0af",
   "metadata": {},
   "source": [
    "Change index for Timeseries"
   ]
  },
  {
   "cell_type": "code",
   "execution_count": 4,
   "id": "a68327a9",
   "metadata": {},
   "outputs": [],
   "source": [
    "# Convert date from string format to datetime format\n",
    "irish_rain['date'] = pd.to_datetime(irish_rain['date'], format='%d-%b-%Y %H:%M')\n",
    "\n",
    "# Set date as the index\n",
    "irish_rain.set_index('date', inplace=True)"
   ]
  },
  {
   "cell_type": "markdown",
   "id": "81fd21ae",
   "metadata": {},
   "source": [
    "### Handeling missing values"
   ]
  },
  {
   "cell_type": "code",
   "execution_count": 5,
   "id": "48c009ab",
   "metadata": {},
   "outputs": [],
   "source": [
    "irish_rain.replace(' ', np.nan, inplace=True)"
   ]
  },
  {
   "cell_type": "code",
   "execution_count": 6,
   "id": "e14f218c",
   "metadata": {},
   "outputs": [
    {
     "name": "stdout",
     "output_type": "stream",
     "text": [
      "county          0\n",
      "station         0\n",
      "latitude        0\n",
      "longitude       0\n",
      "rain          135\n",
      "temp           40\n",
      "wetb           48\n",
      "dewpt          47\n",
      "vappr         217\n",
      "rhum          183\n",
      "msl            67\n",
      "wdsp          346\n",
      "wddir         367\n",
      "sun          3055\n",
      "vis          3101\n",
      "clht         3055\n",
      "clamt        3055\n",
      "dtype: int64\n"
     ]
    }
   ],
   "source": [
    "# Check for missing values\n",
    "missing_values = irish_rain.isnull().sum()\n",
    "\n",
    "# print the number of missing values in each column\n",
    "print(missing_values)"
   ]
  },
  {
   "cell_type": "markdown",
   "id": "a5097f63",
   "metadata": {},
   "source": [
    "`rain`"
   ]
  },
  {
   "cell_type": "code",
   "execution_count": 7,
   "id": "349ac3e1",
   "metadata": {},
   "outputs": [
    {
     "name": "stdout",
     "output_type": "stream",
     "text": [
      "['0.0' '0.4' 0.0 nan '0.2' '0.1' '1.9' 0.1 0.3 2.4 0.8 0.6 0.5 '1.0' '1.6'\n",
      " '0.8' 0.9 '1.4' 0.4 '0.5' '5.4' '0.7' '0.3' 0.2 '0.6' '1.3' '0.9' '3.4'\n",
      " 1.2 5.3 '1.2' 4.7 1.7 1.0 '3.9' '3.8' 2.6 1.3 '1.5' 1.9 '2.2' '1.7' 8.0\n",
      " '3.0' '3.7' '2.3' 1.4 '4.8' '2.4' '1.8' '2.7' 1.5 2.8 0.7 2.0 2.3 1.1\n",
      " '3.1' 5.4 3.8 1.6 '2.8' 2.2 '4.7' 3.5 '3.2' '2.1' '2.6' 9.3 '1.1' '2.0'\n",
      " 3.2 3.1 1.8 '4.0' 5.6 5.2 '6.8' 3.7 4.2 2.5]\n"
     ]
    }
   ],
   "source": [
    "unique_values = irish_rain['rain'].unique()\n",
    "print(unique_values)"
   ]
  },
  {
   "cell_type": "code",
   "execution_count": 8,
   "id": "b71624bd",
   "metadata": {},
   "outputs": [],
   "source": [
    "# Drop the missing values\n",
    "irish_rain.dropna(subset=['rain'], inplace=True)"
   ]
  },
  {
   "cell_type": "markdown",
   "id": "9ba68181",
   "metadata": {},
   "source": [
    "`temp`"
   ]
  },
  {
   "cell_type": "code",
   "execution_count": 9,
   "id": "dc0546df",
   "metadata": {},
   "outputs": [
    {
     "name": "stdout",
     "output_type": "stream",
     "text": [
      "[9.8 11.9 '12.2' '17.8' 10.5 '1.4' '13.2' 11.4 7.3 4.4 '6.5' 14.8 5.1\n",
      " '9.2' 3.1 5.0 13.8 10.7 11.0 '7.8' '15.4' '15.5' '20.3' 12.6 7.1 '16.5'\n",
      " '12.5' 5.3 '17.5' 5.7 3.5 16.7 15.9 '12.3' 15.1 6.5 7.9 '10.6' 3.6 5.5\n",
      " 11.3 '2.8' 4.3 11.7 8.1 14.2 6.6 9.3 -0.3 15.2 '8.2' 4.2 10.6 20.4 6.2\n",
      " '11.4' 13.9 6.7 8.2 5.4 2.1 '11.1' -0.1 4.6 12.9 10.0 -1.0 '10.8' 13.7\n",
      " 14.0 '18.5' 11.1 '8.9' 8.6 '0.5' '19.2' 6.4 13.2 0.0 '11.2' 10.4 '0.8'\n",
      " 17.3 '10.9' 12.5 8.3 9.4 '14.0' nan '8.0' 15.0 9.5 1.4 '9.8' 4.5 14.6\n",
      " '8.3' 3.3 '12.0' 10.2 5.9 10.1 '11.7' 15.4 8.8 '5.2' '6.0' '12.6' '6.1'\n",
      " 14.9 '9.7' '13.8' 14.5 9.2 '17.2' '5.5' 10.8 3.7 '12.4' '8.8' '13.9'\n",
      " '15.8' '10.2' '9.4' 9.0 12.8 9.9 8.4 6.3 '9.9' 16.8 10.3 14.3 '2.5' 3.0\n",
      " 11.6 '8.7' '5.1' '14.4' '4.8' '2.7' 7.5 7.0 13.4 8.9 '5.9' '10.0' 3.4\n",
      " '8.1' 9.6 13.0 '20.0' '14.7' '6.4' 7.7 21.7 '11.5' '3.6' '13.1' 15.5\n",
      " '14.9' '12.1' 5.8 '10.5' '-2.7' 9.1 15.6 '17.0' -0.8 16.9 7.2 '4.7' 23.1\n",
      " 2.3 20.8 '16.1' 17.4 5.2 '11.8' 12.2 '7.7' 12.4 4.9 '5.6' 11.2 20.3 '8.5'\n",
      " '11.3' 0.8 9.7 10.9 '16.4' '8.6' '1.9' 0.3 '6.7' 2.8 '15.1' '16.7' '2.4'\n",
      " '11.6' '13.3' 21.4 6.9 '13.6' 12.3 16.3 5.6 '18.1' '11.9' 12.7 '5.3'\n",
      " '9.1' '4.9' '15.7' '9.6' 15.8 1.1 '1.2' '10.1' 8.7 18.0 14.1 '1.0' '4.5'\n",
      " 15.7 17.1 '6.3' 16.4 1.5 '11.0' '13.5' '0.4' '14.1' 3.8 4.8 '12.7' '15.0'\n",
      " 14.7 '8.4' -1.2 '10.7' 4.7 1.7 '7.2' '-0.3' 11.5 '7.3' 13.1 '1.7' 16.5\n",
      " '16.0' '-1.0' 21.8 18.1 '9.5' '13.7' 12.1 '4.3' 0.9 24.6 '19.3' '18.7'\n",
      " '15.2' 4.1 14.4 26.2 17.2 8.5 '2.2' 17.6 '7.0' 7.4 19.0 7.8 18.2 '12.9'\n",
      " '16.9' '13.4' 16.0 '14.2' 12.0 '13.0' '9.3' '15.3' 16.6 '6.8' 11.8 '4.0'\n",
      " 13.3 13.5 17.0 7.6 1.8 '-0.7' '1.6' '21.8' '5.0' 20.2 '16.2' '15.9' 4.0\n",
      " 19.2 '19.4' 8.0 1.9 '6.2' '-1.7' 15.3 '0.2' '5.7' '0.0' 0.4 '-2.0' '14.3'\n",
      " '19.0' '7.4' 13.6 '3.3' 3.9 '16.6' '5.8' '23.4' '20.4' 2.5 '16.3' '1.3'\n",
      " '-2.2' '12.8' '4.2' '3.1' '14.6' '17.6' '6.6' '3.8' 2.2 2.6 2.9 '10.4'\n",
      " 3.2 '4.4' '14.8' '19.8' 6.8 -2.1 '14.5' '17.9' '15.6' '9.0' 2.4 6.0 0.1\n",
      " 18.3 '-3.5' '3.2' 16.2 1.6 '-0.1' '-4.4' 20.0 '7.1' '7.9' '17.1' -4.6\n",
      " '17.7' '10.3' '19.1' '0.1' '-2.4' '4.1' '3.7' 17.9 18.7 '0.3' 19.3 '16.8'\n",
      " '-0.0' -0.6 16.1 1.3 '-4.8' '3.5' '18.0' 2.0 17.5 '20.8' '18.4' '2.1'\n",
      " -0.2 22.1 '-3.9' '24.5' '7.5' 0.7 '6.9' '18.6' '7.6' '3.9' '19.9' '2.9'\n",
      " 0.6 23.3 '2.3' '21.2' '17.4' 2.7 '1.8' 17.7 19.8 0.2 18.9 21.1 18.6 23.2\n",
      " -1.9 1.2 '3.4' '5.4' '20.1' -6.0 '18.9' '21.1' 24.7 6.1 '-2.3' '18.2'\n",
      " 19.6 -2.5 19.1 '4.6' '-1.4' '-0.4' '-0.2' -1.4 21.0 18.8 '21.6' '-0.5'\n",
      " 19.9 -4.2 '-1.8' '2.6' 22.8 22.9 '22.5' '1.1' 17.8 18.4 '-0.6' '22.0'\n",
      " 23.0 '-1.2' '1.5' 19.5 21.9 '3.0' '-1.1' '20.7' '-3.3' '0.9' '-3.4'\n",
      " '20.6' '2.0' '-1.3' 19.7 -0.9 -1.7 '22.6' -2.6 '-5.7' '20.9' '18.3' 22.2\n",
      " '-1.6' -4.7 '-4.0' -2.0 19.4 24.4 '25.5' '-3.8' '23.2' '21.4' '21.9'\n",
      " '0.6' '-2.9' -2.3 -3.7 '27.4' '-4.3' '26.0' -3.1 -0.4 '-2.1' 1.0]\n"
     ]
    }
   ],
   "source": [
    "unique_values = irish_rain['temp'].unique()\n",
    "print(unique_values)"
   ]
  },
  {
   "cell_type": "code",
   "execution_count": 10,
   "id": "0c1c96da",
   "metadata": {},
   "outputs": [],
   "source": [
    "irish_rain.dropna(subset=['temp'], inplace=True)"
   ]
  },
  {
   "cell_type": "markdown",
   "id": "1812593c",
   "metadata": {},
   "source": [
    "`wetb`"
   ]
  },
  {
   "cell_type": "code",
   "execution_count": 11,
   "id": "b9e67dd4",
   "metadata": {},
   "outputs": [
    {
     "name": "stdout",
     "output_type": "stream",
     "text": [
      "[9.1 '10.1' '12.0' '14.0' 9.8 '-0.1' '11.5' 10.2 7.1 2.4 '5.5' 13.5 '3.5'\n",
      " '8.3' '2.1' 5.0 10.3 8.2 '5.1' '13.5' '14.5' '17.7' 10.7 5.6 '12.7' '9.9'\n",
      " '4.8' '13.8' 2.6 14.7 '6.3' 14.5 '11.3' 11.6 4.0 '7.9' '9.4' 3.3 5.1 10.4\n",
      " '2.7' 3.5 7.7 13.3 5.3 9.3 -0.7 13.1 '6.6' 12.3 10.1 18.5 5.5 '10.8' 13.6\n",
      " 10.0 '2.3' 5.2 4.4 1.3 '9.6' -0.4 4.2 12.9 8.4 6.3 '-1.5' '9.0' '11.7'\n",
      " '4.3' 9.0 9.7 '15.0' '9.8' '7.8' '8.0' '0.2' '15.8' '6.4' 4.3 -1.2 '10.6'\n",
      " 9.4 '0.1' '13.2' 8.5 '10.2' 11.9 4.8 '11.2' '11.0' '12.2' 12.5 6.1 7.8\n",
      " 2.2 '1.1' 11.8 '10.3' '8.7' 13.4 8.0 '7.5' '3.0' '11.4' 8.3 5.8 '9.3'\n",
      " 13.2 8.1 4.7 '3.8' '11.8' '5.2' '5.7' '8.9' '13.1' 8.7 '7.0' '13.9'\n",
      " '15.2' '4.7' '10.0' 6.8 '7.7' '6.8' '9.2' '2.5' '13.6' 12.2 8.6 6.4 4.1\n",
      " '5.6' '12.5' 14.8 '8.6' '14.2' 11.0 13.7 '2.2' 2.0 '3.6' 12.7 6.7 11.4\n",
      " 7.2 5.7 '8.5' 1.6 '5.3' '13.4' '2.6' 6.6 '6.9' '4.4' '18.1' '3.3' '8.1'\n",
      " '16.1' '11.1' '3.2' '7.1' '14.7' 13.9 3.6 10.6 2.8 '-3.0' 7.5 12.8 -1.0\n",
      " '6.1' 16.5 4.6 '4.2' 7.3 '1.7' 15.1 '12.6' 13.0 4.5 '10.5' 12.1 '7.4'\n",
      " '11.9' '13.7' '5.4' '10.9' 3.7 '15.1' 0.6 4.9 '14.8' 12.4 -0.5 3.2 '6.7'\n",
      " '10.4' 15.0 8.8 12.0 18.1 5.9 '12.8' '5.8' '3.1' 9.2 '4.6' '12.3' 7.9\n",
      " '6.2' 6.0 15.8 0.9 '0.7' '4.9' '9.1' 7.0 '6.5' '14.4' 2.1 '7.6' 5.4 '0.6'\n",
      " '8.2' '5.9' 8.9 10.5 11.3 1.1 '11.6' '12.4' '15.5' '12.9' '13.0' -1.4\n",
      " '4.5' '-0.3' 15.5 '7.2' '1.9' 2.5 14.1 '9.7' '16.2' '8.4' '-1.0' 14.0\n",
      " '18.6' 15.6 14.2 0.7 20.2 '15.6' '6.0' 11.1 17.7 '2.0' 16.6 2.7 16.3 7.6\n",
      " '8.8' '12.1' 16.2 14.9 10.9 '13.3' 3.0 16.1 '2.4' '5.0' 0.8 2.9 '17.0'\n",
      " 9.5 '9.5' 13.8 1.7 '-1.1' '1.2' '18.0' 16.4 9.9 '0.9' 16.7 '-0.6' 1.5 6.5\n",
      " '10.7' '14.6' '14.1' 18.9 '16.4' 1.8 '-2.1' 7.4 11.5 '0.0' '4.1' 6.9 0.1\n",
      " '-2.3' '3.7' '15.9' 3.1 14.4 '1.4' 3.9 '3.4' 11.2 '15.3' 15.4 '1.5' nan\n",
      " '-2.7' 3.4 17.4 '2.8' '14.9' '15.7' 1.9 '16.3' 12.6 -2.6 '7.3' 2.3 10.8\n",
      " 9.6 -0.1 '-3.5' 14.3 6.2 14.6 '-4.5' 19.2 '2.9' '-4.6' '14.3' 11.7 '15.4'\n",
      " -1.3 '16.6' -0.0 '-5.0' '1.8' '18.8' 1.4 '-4.8' 3.8 '1.0' -0.3 15.7 19.0\n",
      " '-4.1' '16.8' '0.3' '4.0' '-0.8' 0.4 15.9 '3.9' 16.9 '0.8' '16.0' 18.3\n",
      " '-1.2' 0.2 17.1 19.1 16.0 -1.9 '16.5' '17.6' 1.2 -6.2 '17.5' '-0.2' -0.6\n",
      " 15.2 18.0 '-2.5' '1.3' -3.5 -1.6 17.2 '18.9' '-4.2' '-1.9' '19.7' 17.3\n",
      " '17.4' -1.5 -0.2 17.8 '-1.4' '16.9' 1.0 -7.0 15.3 '18.5' 0.3 '-0.4'\n",
      " '-0.9' '17.3' '0.4' '-3.4' '-0.0' '-3.3' '-1.6' -2.8 -1.7 '17.1' -3.2\n",
      " '-5.8' 17.5 '-3.7' '-1.7' 17.0 '-3.6' '-4.9' '1.6' '-4.0' '-2.6' '18.4'\n",
      " '19.2' '20.0' 18.7 '-3.8' '18.2' '17.2' '-3.1' -2.5 '-2.8' '-0.7' '-2.2'\n",
      " '17.8']\n"
     ]
    }
   ],
   "source": [
    "unique_values = irish_rain['wetb'].unique()\n",
    "print(unique_values)"
   ]
  },
  {
   "cell_type": "code",
   "execution_count": 12,
   "id": "991c3bbf",
   "metadata": {},
   "outputs": [],
   "source": [
    "irish_rain.dropna(subset=['wetb'], inplace=True)"
   ]
  },
  {
   "cell_type": "markdown",
   "id": "e63e9305",
   "metadata": {},
   "source": [
    "`vappr`"
   ]
  },
  {
   "cell_type": "code",
   "execution_count": 13,
   "id": "b87610c8",
   "metadata": {},
   "outputs": [
    {
     "name": "stdout",
     "output_type": "stream",
     "text": [
      "[11.0 '11.0' '13.8' '13.0' '11.5' '4.9' '12.2' 9.9 5.7 '8.2' 14.4 '6.5'\n",
      " '10.1' '6.3' 8.7 15.2 12.2 8.6 '6.6' '14.0' '15.7' '18.2' 11.3 7.9 '11.6'\n",
      " '12.9' 8.2 6.6 15.1 '8.4' 15.4 '12.6' 10.9 6.1 '10.6' '10.8' 7.5 8.5 11.9\n",
      " '7.4' 7.2 11.2 10.2 '14.5' '11.7' 5.5 13.5 '8.5' 7.1 14.0 12.0 19.8\n",
      " '12.5' 15.3 11.7 '6.8' 6.5 7.6 12.4 '6.1' '10.7' 14.9 9.7 8.3 '5.1' 12.1\n",
      " 5.4 11.4 '14.2' '11.1' '9.6' '6.0' '15.2' 4.6 '12.3' '5.6' '11.9' 10.5\n",
      " 13.4 10.0 8.4 '12.8' 12.5 9.2 '5.4' '6.4' 13.0 '10.4' 8.0 '9.7' '12.1'\n",
      " 7.3 9.4 7.7 9.3 '10.9' '9.8' '11.8' '8.3' '13.3' '7.8' '8.9' 11.5 '14.6'\n",
      " 10.4 10.3 '15.4' 9.6 '15.1' '9.9' '7.1' 13.8 10.1 7.8 9.8 '14.9' '7.0'\n",
      " 6.3 '10.0' 9.0 '6.7' '15.6' '11.2' 13.9 '8.6' '9.2' 8.8 10.6 13.1 '13.7'\n",
      " 6.7 '9.1' 13.7 '19.3' '13.9' nan '5.3' '10.2' '7.3' '13.5' '16.6' 14.3\n",
      " 10.8 6.8 7.0 '4.7' 9.1 '13.6' 15.8 '13.1' '9.4' 14.5 18.4 6.4 '10.3' 12.7\n",
      " '7.9' 14.1 '8.7' 4.7 '8.8' '12.7' 11.6 '13.4' 12.6 '15.5' '13.2' 5.3 6.9\n",
      " '14.8' '6.9' 16.9 '18.1' '14.1' '9.0' '11.4' '7.2' 15.0 11.1 '11.3' '8.0'\n",
      " 8.9 17.9 '7.7' '7.5' 14.8 '12.4' '10.5' 8.1 14.7 9.5 17.5 12.9 '8.1'\n",
      " '12.0' 12.8 16.6 '15.0' '15.8' 5.9 '9.3' 7.4 '5.7' '18.9' 15.7 '5.9'\n",
      " '7.6' '15.9' 20.1 '14.7' 6.0 18.1 16.4 17.0 13.2 16.2 18.0 17.3 16.5\n",
      " '19.4' 12.3 10.7 '16.1' 13.3 '17.7' 15.5 '14.3' 6.2 19.0 21.5 '16.3' 15.9\n",
      " 14.2 '9.5' '14.4' '16.9' '15.3' '17.1' '6.2' 5.6 '4.6' 19.2 '16.0' '17.3'\n",
      " '17.5' '18.3' 11.8 17.2 5.2 14.6 '16.4' 16.0 '5.8' 16.1 '4.3' 21.6 4.3\n",
      " '5.2' '16.5' 18.9 13.6 '4.4' '0.0' 5.0 17.8 5.8 '4.1' 16.7 '20.1' '5.5'\n",
      " '17.2' 16.3 19.5 '16.2' 17.6 '17.0' 4.5 17.4 '17.8' 18.8 18.5 '19.0'\n",
      " '20.0' 17.1 '17.4' 3.5 '18.8' 5.1 4.8 '5.0' 15.6 3.9 '16.7' 17.7 '18.6'\n",
      " '19.5' '16.8' '20.5' 18.3 18.6 2.8 16.8 '18.4' 4.9 '4.8' '18.5' 3.4 19.1\n",
      " '3.9' '3.6' '3.7' '4.5' 4.4 20.4 '20.2' 19.9 20.3 '19.7' '3.8' '17.6'\n",
      " '4.2' 18.2 '17.9']\n"
     ]
    }
   ],
   "source": [
    "unique_values = irish_rain['vappr'].unique()\n",
    "print(unique_values)"
   ]
  },
  {
   "cell_type": "code",
   "execution_count": 14,
   "id": "6d2bb011",
   "metadata": {},
   "outputs": [],
   "source": [
    "# Drop the missing values\n",
    "irish_rain.dropna(subset=['vappr'], inplace=True)"
   ]
  },
  {
   "cell_type": "markdown",
   "id": "62c3063f",
   "metadata": {},
   "source": [
    "`rhum`"
   ]
  },
  {
   "cell_type": "code",
   "execution_count": 15,
   "id": "57bacab5",
   "metadata": {},
   "outputs": [
    {
     "name": "stdout",
     "output_type": "stream",
     "text": [
      "[90 '79' '96' '63' '91' '72' '80' '85' 96 68 86 '74' '86' '82' 100 95 66\n",
      " '62' '89' 76 78 '61' '69' '92' '64' 89 85 80 '87' 63 '100' '84' 94 '98'\n",
      " 87 82 '90' 91 '78' 93 83 '93' 97 59 84 79 51 47 '67' 92 '94' 65 69 '60'\n",
      " '77' '99' 73 '65' 67 '71' 77 81 '95' '55' '57' '97' '83' '59' 75 '76'\n",
      " '88' 99 74 61 88 53 '75' 70 '73' 71 48 57 '68' 55 '50' 98 56 '81' 62 '70'\n",
      " 64 39 46 54 '56' 60 58 '52' 72 '49' '42' '58' '45' '66' '51' 49 '0' '48'\n",
      " '54' '40' '53' 50 44 52 '39' 45 '46' '43' '47']\n"
     ]
    }
   ],
   "source": [
    "unique_values = irish_rain['rhum'].unique()\n",
    "print(unique_values)"
   ]
  },
  {
   "cell_type": "markdown",
   "id": "a6daf682",
   "metadata": {},
   "source": [
    "No more missing values after taking care of the other ones! But in case I bring in more data, I will still put code in to drop missing values."
   ]
  },
  {
   "cell_type": "code",
   "execution_count": 16,
   "id": "140bec1b",
   "metadata": {},
   "outputs": [],
   "source": [
    "# Drop the missing values\n",
    "irish_rain.dropna(subset=['rhum'], inplace=True)"
   ]
  },
  {
   "cell_type": "markdown",
   "id": "fb13b243",
   "metadata": {},
   "source": [
    "`wdsp`"
   ]
  },
  {
   "cell_type": "code",
   "execution_count": 17,
   "id": "886207b4",
   "metadata": {},
   "outputs": [
    {
     "name": "stdout",
     "output_type": "stream",
     "text": [
      "[14 13 '5' '8' 10 '3' nan 9 16 '11' 2 '19' '17' 6 4 19 '18' '10' '14' 12 8\n",
      " '4' '13' 7 21.0 5 20 '0' '7' 23 '2' 29 17 3 '1' 11 '9' 1 '24' '15' 18 15\n",
      " '16' '12' '6' 30 '21' 26 '32' 24 31 '26' '20' 22 '28' '22' 27 25 '23' 0\n",
      " '30' '34' 28 '35' '37' 36 '29' '38' 40 32 '25' '27' 33 '31' 37]\n"
     ]
    }
   ],
   "source": [
    "unique_values = irish_rain['wdsp'].unique()\n",
    "print(unique_values)"
   ]
  },
  {
   "cell_type": "code",
   "execution_count": 18,
   "id": "e6c460c6",
   "metadata": {},
   "outputs": [],
   "source": [
    "irish_rain['wdsp'] = pd.to_numeric(irish_rain['wdsp'], errors='coerce')"
   ]
  },
  {
   "cell_type": "code",
   "execution_count": 19,
   "id": "4ff6bc68",
   "metadata": {},
   "outputs": [
    {
     "name": "stdout",
     "output_type": "stream",
     "text": [
      "[14. 13.  5.  8. 10.  3. nan  9. 16. 11.  2. 19. 17.  6.  4. 18. 12.  7.\n",
      " 21. 20.  0. 23. 29.  1. 24. 15. 30. 26. 32. 31. 22. 28. 27. 25. 34. 35.\n",
      " 37. 36. 38. 40. 33.]\n"
     ]
    }
   ],
   "source": [
    "unique_values = irish_rain['wdsp'].unique()\n",
    "print(unique_values)"
   ]
  },
  {
   "cell_type": "code",
   "execution_count": 20,
   "id": "1963c67e",
   "metadata": {},
   "outputs": [],
   "source": [
    "# calculate the median value of the 'wdsp' column\n",
    "median_value = np.median(irish_rain['wdsp'].dropna())\n",
    "\n",
    "# replace missing values with the median value\n",
    "irish_rain['wdsp'] = irish_rain['wdsp'].fillna(median_value)"
   ]
  },
  {
   "cell_type": "markdown",
   "id": "068d4ec0",
   "metadata": {},
   "source": [
    "`wwdir`"
   ]
  },
  {
   "cell_type": "code",
   "execution_count": 21,
   "id": "32ab88cc",
   "metadata": {},
   "outputs": [
    {
     "name": "stdout",
     "output_type": "stream",
     "text": [
      "[240 290 '80' '280' '50' nan 230 '270' 50 '330' 350 260 170 10 '250' '90'\n",
      " 190 320 '20' '230' '140' '160' 180 270 280 '200' 100 130 '120' 70 30 '0'\n",
      " 160 '340' 110 '310' 330 '350' '300' 80 '130' 220 '100' '290' 360 '220'\n",
      " '10' '260' 40 140 150 '210' 250 '180' '170' '320' 120 20 '30' '240' 200\n",
      " '110' '190' '360' 210 '150' 60 300 90.0 '40' 340 '70' '60' 310 0]\n"
     ]
    }
   ],
   "source": [
    "unique_values = irish_rain['wddir'].unique()\n",
    "print(unique_values)"
   ]
  },
  {
   "cell_type": "code",
   "execution_count": 22,
   "id": "50aa139a",
   "metadata": {},
   "outputs": [],
   "source": [
    "irish_rain['wddir'] = pd.to_numeric(irish_rain['wddir'], errors='coerce')"
   ]
  },
  {
   "cell_type": "code",
   "execution_count": 23,
   "id": "3e606ea1",
   "metadata": {},
   "outputs": [
    {
     "name": "stdout",
     "output_type": "stream",
     "text": [
      "[240. 290.  80. 280.  50.  nan 230. 270. 330. 350. 260. 170.  10. 250.\n",
      "  90. 190. 320.  20. 140. 160. 180. 200. 100. 130. 120.  70.  30.   0.\n",
      " 340. 110. 310. 300. 220. 360.  40. 150. 210.  60.]\n"
     ]
    }
   ],
   "source": [
    "unique_values = irish_rain['wddir'].unique()\n",
    "print(unique_values)"
   ]
  },
  {
   "cell_type": "markdown",
   "id": "6047508f",
   "metadata": {},
   "source": [
    "Since `wddir` represents wind direction, which is a circular variable, it may be more appropriate to impute missing values using the circular mean or median. However, in this case, the number of missing values is relatively small compared to the total number of values in the column, so imputing with the mode value should be sufficient."
   ]
  },
  {
   "cell_type": "code",
   "execution_count": 24,
   "id": "1509e817",
   "metadata": {},
   "outputs": [],
   "source": [
    "mode_value = irish_rain['wddir'].mode()[0]\n",
    "irish_rain['wddir'] = irish_rain['wddir'].fillna(mode_value)"
   ]
  },
  {
   "cell_type": "markdown",
   "id": "1d1397d8",
   "metadata": {},
   "source": [
    "`sun`"
   ]
  },
  {
   "cell_type": "code",
   "execution_count": 25,
   "id": "74edbc42",
   "metadata": {},
   "outputs": [
    {
     "name": "stdout",
     "output_type": "stream",
     "text": [
      "[nan 0.0 1.0 0.2 0.7 0.6 '0.0' 0.4 0.1 0.3 0.5 0.9 '0.8' 0.8 '0.3' '0.6'\n",
      " '1.0' '0.2' '0.5']\n"
     ]
    }
   ],
   "source": [
    "unique_values = irish_rain['sun'].unique()\n",
    "print(unique_values)"
   ]
  },
  {
   "cell_type": "markdown",
   "id": "7ef63538",
   "metadata": {},
   "source": [
    "Since the `sun` column represents the duration of sunshine, which is a continuous variable, you may consider imputing the missing values using mean or median imputation. However, note that imputing such a large proportion of the data may introduce bias in your analysis or modeling."
   ]
  },
  {
   "cell_type": "code",
   "execution_count": 26,
   "id": "75818b26",
   "metadata": {},
   "outputs": [],
   "source": [
    "irish_rain['sun'] = pd.to_numeric(irish_rain['sun'], errors='coerce')"
   ]
  },
  {
   "cell_type": "code",
   "execution_count": 27,
   "id": "f100dd84",
   "metadata": {},
   "outputs": [],
   "source": [
    "median_value = irish_rain['sun'].median()\n",
    "irish_rain['sun'] = irish_rain['sun'].fillna(median_value)"
   ]
  },
  {
   "cell_type": "markdown",
   "id": "5619ba27",
   "metadata": {},
   "source": [
    "Note that this approach assumes that the missing values in the `sun` column are missing at random and that the distribution of the 'sun' values is approximately normal. If these assumptions do not hold, other imputation methods such as regression imputation, KNN imputation, or multiple imputation may be more appropriate."
   ]
  },
  {
   "cell_type": "markdown",
   "id": "8d9b139e",
   "metadata": {},
   "source": [
    "`vis`"
   ]
  },
  {
   "cell_type": "code",
   "execution_count": 28,
   "id": "3fe42cf9",
   "metadata": {},
   "outputs": [
    {
     "name": "stdout",
     "output_type": "stream",
     "text": [
      "[nan 30000 40000 25000 4000 50000 15000 35000 '6000' 3000 '30000' 10000\n",
      " 2500 24000 20000 3500 45000 '12000' '15000' 60000 12000 65000 16000 8000\n",
      " 22000 '35000' 200 '25000' '40000' '20000' 7000 '22000' 2600 55000 '400'\n",
      " '18000' 800 '3000' '17000' 75000 5000 26000.0 4500 '50000' '60000' 14000\n",
      " 18000 '75000' 28000 '70000' 400 11000 100 9000 '16000' '10000' '28000'\n",
      " 6000 '900' '8000' '800' '45000' 1800 70000 21000 17000 '14000' '2500'\n",
      " 2000 '4000' 700.0 '11000' '7000' '200' '2700' 1200.0 '5000' '1200' '1500'\n",
      " '2200' 900 1100 '4500' 19000 300 500 '9000' '24000' 1500 '100' '300' 1600\n",
      " 27000.0 3200 '4400' 13000 '55000']\n"
     ]
    }
   ],
   "source": [
    "unique_values = irish_rain['vis'].unique()\n",
    "print(unique_values)"
   ]
  },
  {
   "cell_type": "markdown",
   "id": "192eed70",
   "metadata": {},
   "source": [
    "Without the NaNs, the `vis` is:\n",
    "* Mean: 26897.97343722213\n",
    "* Median: 25000.0\n",
    "* Mode: 30000.0"
   ]
  },
  {
   "cell_type": "code",
   "execution_count": 29,
   "id": "f583ab5a",
   "metadata": {},
   "outputs": [],
   "source": [
    "# Convert the 'vis' column to numeric type\n",
    "irish_rain['vis'] = pd.to_numeric(irish_rain['vis'], errors='coerce')\n",
    "\n",
    "# Calculate the mean of the 'vis' column\n",
    "mean_value = irish_rain['vis'].mean()\n",
    "\n",
    "# Fill the NaN values with the mean value\n",
    "irish_rain['vis'] = irish_rain['vis'].fillna(mean_value)"
   ]
  },
  {
   "cell_type": "markdown",
   "id": "efd2ea46",
   "metadata": {},
   "source": [
    "`clht`"
   ]
  },
  {
   "cell_type": "code",
   "execution_count": 30,
   "id": "13ab457c",
   "metadata": {},
   "outputs": [
    {
     "name": "stdout",
     "output_type": "stream",
     "text": [
      "[nan 999 250 200 130 38 5 40 0 75 18 4 33 '999' 15 42 2 26 36 27 120 70 12\n",
      " 150 22 30 180 45 110 35 34 20 50 80 60 1 8 90 17 3 100 23 '3' 7 48.0 46\n",
      " 21 37 25.0 13 16 28 190 49.0 '38' 230 220 10 160 '11' '48' 14 24.0 32\n",
      " '12' '14' 6 9 '80' 240 47 19 '60' '35' '4' 39 '300' 29 '26' '10' 11 300\n",
      " '20' '50' 210 140 '90' '15' 41 '25' '19' 31 280 44 '36' '40' '250' '18'\n",
      " 43 170 '9' 69 '5' '22' '16' '220']\n"
     ]
    }
   ],
   "source": [
    "unique_values = irish_rain['clht'].unique()\n",
    "print(unique_values)"
   ]
  },
  {
   "cell_type": "code",
   "execution_count": 31,
   "id": "7aabe4fc",
   "metadata": {},
   "outputs": [],
   "source": [
    "irish_rain['clht'] = pd.to_numeric(irish_rain['clht'], errors='coerce') # convert to numeric\n",
    "irish_rain['clht'] = irish_rain['clht'].interpolate(method='linear') # interpolate"
   ]
  },
  {
   "cell_type": "markdown",
   "id": "f96817db",
   "metadata": {},
   "source": [
    "Technique used: Interpolated values are estimates of missing data points based on the values of neighboring data points. In other words, when data is missing for certain points, interpolation is a technique used to estimate what those values would have been if they had been measured. Interpolation works by using mathematical algorithms to fill in the missing values based on the patterns observed in the available data. The resulting values are typically considered \"interpolated values\" and can be used to analyze the data as if no data were missing."
   ]
  },
  {
   "cell_type": "code",
   "execution_count": 32,
   "id": "afb54950",
   "metadata": {},
   "outputs": [],
   "source": [
    "irish_rain['clht'] = pd.to_numeric(irish_rain['clht'], errors='coerce')\n",
    "irish_rain['clht'] = irish_rain['clht'].interpolate(method='linear')\n",
    "irish_rain['clht'] = irish_rain['clht'].fillna(irish_rain['clht'].mean())"
   ]
  },
  {
   "cell_type": "markdown",
   "id": "ca87333c",
   "metadata": {},
   "source": [
    "`clamt`"
   ]
  },
  {
   "cell_type": "code",
   "execution_count": 33,
   "id": "4a8e68f3",
   "metadata": {},
   "outputs": [
    {
     "name": "stdout",
     "output_type": "stream",
     "text": [
      "[nan 3 7 6 8 2 4 '3' 5 1 0 '8' '7' '2' '6' '0' '1' '4' '5']\n"
     ]
    }
   ],
   "source": [
    "unique_values = irish_rain['clamt'].unique()\n",
    "print(unique_values)"
   ]
  },
  {
   "cell_type": "markdown",
   "id": "10500524",
   "metadata": {},
   "source": [
    "In the case of `clamt` cloud amount I am going to use the most common value, or mode, to fill in the missing values. "
   ]
  },
  {
   "cell_type": "code",
   "execution_count": 34,
   "id": "10fb236b",
   "metadata": {},
   "outputs": [],
   "source": [
    "mode_value = statistics.mode(irish_rain['clamt'])"
   ]
  },
  {
   "cell_type": "code",
   "execution_count": 35,
   "id": "c7d59183",
   "metadata": {},
   "outputs": [],
   "source": [
    "irish_rain['clamt'] = irish_rain['clamt'].fillna(mode_value)"
   ]
  },
  {
   "cell_type": "markdown",
   "id": "a13aa044",
   "metadata": {},
   "source": [
    "`msl`"
   ]
  },
  {
   "cell_type": "code",
   "execution_count": 36,
   "id": "4a7b7a88",
   "metadata": {},
   "outputs": [
    {
     "name": "stdout",
     "output_type": "stream",
     "text": [
      "[1021.5 '1010.0' '1010.1' ... 1034.6 '1027.1' 979.2]\n"
     ]
    }
   ],
   "source": [
    "unique_values = irish_rain['msl'].unique()\n",
    "print(unique_values)"
   ]
  },
  {
   "cell_type": "code",
   "execution_count": 37,
   "id": "b5fe5a76",
   "metadata": {},
   "outputs": [],
   "source": [
    "# Drop the missing values\n",
    "irish_rain.dropna(subset=['msl'], inplace=True)"
   ]
  },
  {
   "cell_type": "code",
   "execution_count": 38,
   "id": "9f3bc917",
   "metadata": {},
   "outputs": [
    {
     "name": "stdout",
     "output_type": "stream",
     "text": [
      "county       0\n",
      "station      0\n",
      "latitude     0\n",
      "longitude    0\n",
      "rain         0\n",
      "temp         0\n",
      "wetb         0\n",
      "dewpt        0\n",
      "vappr        0\n",
      "rhum         0\n",
      "msl          0\n",
      "wdsp         0\n",
      "wddir        0\n",
      "sun          0\n",
      "vis          0\n",
      "clht         0\n",
      "clamt        0\n",
      "dtype: int64\n"
     ]
    }
   ],
   "source": [
    "# Sanity check\n",
    "# Check for missing values\n",
    "missing_values = irish_rain.isnull().sum()\n",
    "\n",
    "# print the number of missing values in each column\n",
    "print(missing_values)"
   ]
  },
  {
   "cell_type": "code",
   "execution_count": 39,
   "id": "9794b23d",
   "metadata": {},
   "outputs": [
    {
     "data": {
      "text/html": [
       "<div>\n",
       "<style scoped>\n",
       "    .dataframe tbody tr th:only-of-type {\n",
       "        vertical-align: middle;\n",
       "    }\n",
       "\n",
       "    .dataframe tbody tr th {\n",
       "        vertical-align: top;\n",
       "    }\n",
       "\n",
       "    .dataframe thead th {\n",
       "        text-align: right;\n",
       "    }\n",
       "</style>\n",
       "<table border=\"1\" class=\"dataframe\">\n",
       "  <thead>\n",
       "    <tr style=\"text-align: right;\">\n",
       "      <th></th>\n",
       "      <th>county</th>\n",
       "      <th>station</th>\n",
       "      <th>latitude</th>\n",
       "      <th>longitude</th>\n",
       "      <th>rain</th>\n",
       "      <th>temp</th>\n",
       "      <th>wetb</th>\n",
       "      <th>dewpt</th>\n",
       "      <th>vappr</th>\n",
       "      <th>rhum</th>\n",
       "      <th>msl</th>\n",
       "      <th>wdsp</th>\n",
       "      <th>wddir</th>\n",
       "      <th>sun</th>\n",
       "      <th>vis</th>\n",
       "      <th>clht</th>\n",
       "      <th>clamt</th>\n",
       "    </tr>\n",
       "    <tr>\n",
       "      <th>date</th>\n",
       "      <th></th>\n",
       "      <th></th>\n",
       "      <th></th>\n",
       "      <th></th>\n",
       "      <th></th>\n",
       "      <th></th>\n",
       "      <th></th>\n",
       "      <th></th>\n",
       "      <th></th>\n",
       "      <th></th>\n",
       "      <th></th>\n",
       "      <th></th>\n",
       "      <th></th>\n",
       "      <th></th>\n",
       "      <th></th>\n",
       "      <th></th>\n",
       "      <th></th>\n",
       "    </tr>\n",
       "  </thead>\n",
       "  <tbody>\n",
       "    <tr>\n",
       "      <th>2016-12-11 04:00:00</th>\n",
       "      <td>Galway</td>\n",
       "      <td>MACE HEAD</td>\n",
       "      <td>53.326</td>\n",
       "      <td>-9.901</td>\n",
       "      <td>0.0</td>\n",
       "      <td>9.8</td>\n",
       "      <td>9.1</td>\n",
       "      <td>8.4</td>\n",
       "      <td>11.0</td>\n",
       "      <td>90</td>\n",
       "      <td>1021.5</td>\n",
       "      <td>14.0</td>\n",
       "      <td>240.0</td>\n",
       "      <td>0.0</td>\n",
       "      <td>27306.635071</td>\n",
       "      <td>259.742779</td>\n",
       "      <td>7</td>\n",
       "    </tr>\n",
       "    <tr>\n",
       "      <th>2017-09-14 00:00:00</th>\n",
       "      <td>Cork</td>\n",
       "      <td>SherkinIsland</td>\n",
       "      <td>51.476</td>\n",
       "      <td>-9.428</td>\n",
       "      <td>0.0</td>\n",
       "      <td>11.9</td>\n",
       "      <td>10.1</td>\n",
       "      <td>8.4</td>\n",
       "      <td>11.0</td>\n",
       "      <td>79</td>\n",
       "      <td>1010.0</td>\n",
       "      <td>13.0</td>\n",
       "      <td>290.0</td>\n",
       "      <td>0.0</td>\n",
       "      <td>27306.635071</td>\n",
       "      <td>259.742779</td>\n",
       "      <td>7</td>\n",
       "    </tr>\n",
       "    <tr>\n",
       "      <th>2014-06-27 01:00:00</th>\n",
       "      <td>Westmeath</td>\n",
       "      <td>MULLINGAR</td>\n",
       "      <td>53.537</td>\n",
       "      <td>-7.362</td>\n",
       "      <td>0.4</td>\n",
       "      <td>12.2</td>\n",
       "      <td>12.0</td>\n",
       "      <td>11.7</td>\n",
       "      <td>13.8</td>\n",
       "      <td>96</td>\n",
       "      <td>1010.1</td>\n",
       "      <td>5.0</td>\n",
       "      <td>80.0</td>\n",
       "      <td>0.0</td>\n",
       "      <td>27306.635071</td>\n",
       "      <td>259.742779</td>\n",
       "      <td>7</td>\n",
       "    </tr>\n",
       "    <tr>\n",
       "      <th>2007-05-22 14:00:00</th>\n",
       "      <td>Carlow</td>\n",
       "      <td>OAK PARK</td>\n",
       "      <td>52.861</td>\n",
       "      <td>-6.915</td>\n",
       "      <td>0.0</td>\n",
       "      <td>17.8</td>\n",
       "      <td>14.0</td>\n",
       "      <td>10.8</td>\n",
       "      <td>13.0</td>\n",
       "      <td>63</td>\n",
       "      <td>1021.8</td>\n",
       "      <td>8.0</td>\n",
       "      <td>280.0</td>\n",
       "      <td>0.0</td>\n",
       "      <td>27306.635071</td>\n",
       "      <td>259.742779</td>\n",
       "      <td>7</td>\n",
       "    </tr>\n",
       "    <tr>\n",
       "      <th>2005-06-03 22:00:00</th>\n",
       "      <td>Cork</td>\n",
       "      <td>CORK AIRPORT</td>\n",
       "      <td>51.847</td>\n",
       "      <td>-8.486</td>\n",
       "      <td>0.0</td>\n",
       "      <td>10.5</td>\n",
       "      <td>9.8</td>\n",
       "      <td>9.0</td>\n",
       "      <td>11.5</td>\n",
       "      <td>91</td>\n",
       "      <td>1008.8</td>\n",
       "      <td>10.0</td>\n",
       "      <td>240.0</td>\n",
       "      <td>0.0</td>\n",
       "      <td>30000.000000</td>\n",
       "      <td>999.000000</td>\n",
       "      <td>3</td>\n",
       "    </tr>\n",
       "    <tr>\n",
       "      <th>...</th>\n",
       "      <td>...</td>\n",
       "      <td>...</td>\n",
       "      <td>...</td>\n",
       "      <td>...</td>\n",
       "      <td>...</td>\n",
       "      <td>...</td>\n",
       "      <td>...</td>\n",
       "      <td>...</td>\n",
       "      <td>...</td>\n",
       "      <td>...</td>\n",
       "      <td>...</td>\n",
       "      <td>...</td>\n",
       "      <td>...</td>\n",
       "      <td>...</td>\n",
       "      <td>...</td>\n",
       "      <td>...</td>\n",
       "      <td>...</td>\n",
       "    </tr>\n",
       "    <tr>\n",
       "      <th>2016-06-15 00:00:00</th>\n",
       "      <td>Cavan</td>\n",
       "      <td>BALLYHAISE</td>\n",
       "      <td>54.051</td>\n",
       "      <td>-7.310</td>\n",
       "      <td>0.0</td>\n",
       "      <td>11.0</td>\n",
       "      <td>10.1</td>\n",
       "      <td>9.3</td>\n",
       "      <td>11.7</td>\n",
       "      <td>89</td>\n",
       "      <td>996.5</td>\n",
       "      <td>3.0</td>\n",
       "      <td>310.0</td>\n",
       "      <td>0.0</td>\n",
       "      <td>27306.635071</td>\n",
       "      <td>524.500000</td>\n",
       "      <td>7</td>\n",
       "    </tr>\n",
       "    <tr>\n",
       "      <th>2006-08-22 07:00:00</th>\n",
       "      <td>Wexford</td>\n",
       "      <td>JOHNSTOWNII</td>\n",
       "      <td>52.298</td>\n",
       "      <td>-6.497</td>\n",
       "      <td>0.0</td>\n",
       "      <td>14.5</td>\n",
       "      <td>12.7</td>\n",
       "      <td>11.1</td>\n",
       "      <td>13.2</td>\n",
       "      <td>79</td>\n",
       "      <td>1018.6</td>\n",
       "      <td>2.0</td>\n",
       "      <td>250.0</td>\n",
       "      <td>0.0</td>\n",
       "      <td>27306.635071</td>\n",
       "      <td>366.333333</td>\n",
       "      <td>7</td>\n",
       "    </tr>\n",
       "    <tr>\n",
       "      <th>2016-10-06 17:00:00</th>\n",
       "      <td>Meath</td>\n",
       "      <td>DUNSANY</td>\n",
       "      <td>53.516</td>\n",
       "      <td>-6.660</td>\n",
       "      <td>0.0</td>\n",
       "      <td>12.1</td>\n",
       "      <td>9.5</td>\n",
       "      <td>6.7</td>\n",
       "      <td>9.8</td>\n",
       "      <td>69</td>\n",
       "      <td>1025.2</td>\n",
       "      <td>9.0</td>\n",
       "      <td>100.0</td>\n",
       "      <td>0.0</td>\n",
       "      <td>27306.635071</td>\n",
       "      <td>208.166667</td>\n",
       "      <td>7</td>\n",
       "    </tr>\n",
       "    <tr>\n",
       "      <th>2000-09-02 18:00:00</th>\n",
       "      <td>Mayo</td>\n",
       "      <td>KNOCK AIRPORT</td>\n",
       "      <td>53.906</td>\n",
       "      <td>-8.817</td>\n",
       "      <td>0.0</td>\n",
       "      <td>16.8</td>\n",
       "      <td>14.1</td>\n",
       "      <td>11.9</td>\n",
       "      <td>13.9</td>\n",
       "      <td>73</td>\n",
       "      <td>1016.1</td>\n",
       "      <td>3.0</td>\n",
       "      <td>70.0</td>\n",
       "      <td>0.0</td>\n",
       "      <td>40000.000000</td>\n",
       "      <td>50.000000</td>\n",
       "      <td>7</td>\n",
       "    </tr>\n",
       "    <tr>\n",
       "      <th>1992-05-30 03:00:00</th>\n",
       "      <td>Donegal</td>\n",
       "      <td>MALIN HEAD</td>\n",
       "      <td>55.372</td>\n",
       "      <td>-7.339</td>\n",
       "      <td>0.0</td>\n",
       "      <td>12.0</td>\n",
       "      <td>10.5</td>\n",
       "      <td>9.0</td>\n",
       "      <td>11.5</td>\n",
       "      <td>82</td>\n",
       "      <td>1012.3</td>\n",
       "      <td>23.0</td>\n",
       "      <td>100.0</td>\n",
       "      <td>0.0</td>\n",
       "      <td>20000.000000</td>\n",
       "      <td>999.000000</td>\n",
       "      <td>4</td>\n",
       "    </tr>\n",
       "  </tbody>\n",
       "</table>\n",
       "<p>4765 rows × 17 columns</p>\n",
       "</div>"
      ],
      "text/plain": [
       "                        county        station  latitude  longitude rain  temp   \n",
       "date                                                                            \n",
       "2016-12-11 04:00:00     Galway      MACE HEAD    53.326     -9.901  0.0   9.8  \\\n",
       "2017-09-14 00:00:00       Cork  SherkinIsland    51.476     -9.428  0.0  11.9   \n",
       "2014-06-27 01:00:00  Westmeath      MULLINGAR    53.537     -7.362  0.4  12.2   \n",
       "2007-05-22 14:00:00     Carlow       OAK PARK    52.861     -6.915  0.0  17.8   \n",
       "2005-06-03 22:00:00       Cork   CORK AIRPORT    51.847     -8.486  0.0  10.5   \n",
       "...                        ...            ...       ...        ...  ...   ...   \n",
       "2016-06-15 00:00:00      Cavan     BALLYHAISE    54.051     -7.310  0.0  11.0   \n",
       "2006-08-22 07:00:00    Wexford    JOHNSTOWNII    52.298     -6.497  0.0  14.5   \n",
       "2016-10-06 17:00:00      Meath        DUNSANY    53.516     -6.660  0.0  12.1   \n",
       "2000-09-02 18:00:00       Mayo  KNOCK AIRPORT    53.906     -8.817  0.0  16.8   \n",
       "1992-05-30 03:00:00    Donegal     MALIN HEAD    55.372     -7.339  0.0  12.0   \n",
       "\n",
       "                     wetb dewpt vappr rhum     msl  wdsp  wddir  sun   \n",
       "date                                                                   \n",
       "2016-12-11 04:00:00   9.1   8.4  11.0   90  1021.5  14.0  240.0  0.0  \\\n",
       "2017-09-14 00:00:00  10.1   8.4  11.0   79  1010.0  13.0  290.0  0.0   \n",
       "2014-06-27 01:00:00  12.0  11.7  13.8   96  1010.1   5.0   80.0  0.0   \n",
       "2007-05-22 14:00:00  14.0  10.8  13.0   63  1021.8   8.0  280.0  0.0   \n",
       "2005-06-03 22:00:00   9.8   9.0  11.5   91  1008.8  10.0  240.0  0.0   \n",
       "...                   ...   ...   ...  ...     ...   ...    ...  ...   \n",
       "2016-06-15 00:00:00  10.1   9.3  11.7   89   996.5   3.0  310.0  0.0   \n",
       "2006-08-22 07:00:00  12.7  11.1  13.2   79  1018.6   2.0  250.0  0.0   \n",
       "2016-10-06 17:00:00   9.5   6.7   9.8   69  1025.2   9.0  100.0  0.0   \n",
       "2000-09-02 18:00:00  14.1  11.9  13.9   73  1016.1   3.0   70.0  0.0   \n",
       "1992-05-30 03:00:00  10.5   9.0  11.5   82  1012.3  23.0  100.0  0.0   \n",
       "\n",
       "                              vis        clht clamt  \n",
       "date                                                 \n",
       "2016-12-11 04:00:00  27306.635071  259.742779     7  \n",
       "2017-09-14 00:00:00  27306.635071  259.742779     7  \n",
       "2014-06-27 01:00:00  27306.635071  259.742779     7  \n",
       "2007-05-22 14:00:00  27306.635071  259.742779     7  \n",
       "2005-06-03 22:00:00  30000.000000  999.000000     3  \n",
       "...                           ...         ...   ...  \n",
       "2016-06-15 00:00:00  27306.635071  524.500000     7  \n",
       "2006-08-22 07:00:00  27306.635071  366.333333     7  \n",
       "2016-10-06 17:00:00  27306.635071  208.166667     7  \n",
       "2000-09-02 18:00:00  40000.000000   50.000000     7  \n",
       "1992-05-30 03:00:00  20000.000000  999.000000     4  \n",
       "\n",
       "[4765 rows x 17 columns]"
      ]
     },
     "execution_count": 39,
     "metadata": {},
     "output_type": "execute_result"
    }
   ],
   "source": [
    "irish_rain"
   ]
  },
  {
   "cell_type": "markdown",
   "id": "5ac1785f",
   "metadata": {},
   "source": [
    "### Numerical data"
   ]
  },
  {
   "cell_type": "code",
   "execution_count": 40,
   "id": "35d9ff4a",
   "metadata": {},
   "outputs": [
    {
     "name": "stdout",
     "output_type": "stream",
     "text": [
      "Some columns are not numerical.\n"
     ]
    }
   ],
   "source": [
    "# Set selected columns to numerical\n",
    "numerical_cols = ['latitude', 'longitude', 'rain', 'temp', 'wetb', 'dewpt', 'vappr', 'rhum', 'msl', 'wdsp', 'wddir', 'sun', 'vis', 'clht', 'clamt']\n",
    "numerical_cols_set = set(numerical_cols)\n",
    "\n",
    "# Selecting only numeric columns\n",
    "numeric_irish_rain = irish_rain.select_dtypes(include='number')\n",
    "\n",
    "# Comparing the selected columns with the expected numerical columns\n",
    "if set(numeric_irish_rain.columns) == numerical_cols_set:\n",
    "    print(\"All columns are numerical.\")\n",
    "else:\n",
    "    print(\"Some columns are not numerical.\")\n"
   ]
  },
  {
   "cell_type": "code",
   "execution_count": 41,
   "id": "dee12c62",
   "metadata": {},
   "outputs": [
    {
     "name": "stdout",
     "output_type": "stream",
     "text": [
      "Index(['latitude', 'longitude', 'wdsp', 'wddir', 'sun', 'vis', 'clht'], dtype='object')\n"
     ]
    }
   ],
   "source": [
    "# Check for numerical columns\n",
    "numeric_cols = irish_rain.select_dtypes(include='number').columns\n",
    "print(numeric_cols)"
   ]
  },
  {
   "cell_type": "code",
   "execution_count": 42,
   "id": "8c639289",
   "metadata": {},
   "outputs": [
    {
     "name": "stdout",
     "output_type": "stream",
     "text": [
      "county        object\n",
      "station       object\n",
      "latitude     float64\n",
      "longitude    float64\n",
      "rain         float64\n",
      "temp         float64\n",
      "wetb         float64\n",
      "dewpt        float64\n",
      "vappr        float64\n",
      "rhum           int64\n",
      "msl          float64\n",
      "wdsp         float64\n",
      "wddir        float64\n",
      "sun          float64\n",
      "vis          float64\n",
      "clht         float64\n",
      "clamt        float64\n",
      "dtype: object\n"
     ]
    }
   ],
   "source": [
    "# rain, temp, wetb, dewpt, vappr, rhum, msl, and clamt should be numerical\n",
    "\n",
    "# Convert to numerical data types\n",
    "irish_rain['rain'] = pd.to_numeric(irish_rain['rain'], errors='coerce')\n",
    "irish_rain['temp'] = pd.to_numeric(irish_rain['temp'], errors='coerce')\n",
    "irish_rain['wetb'] = pd.to_numeric(irish_rain['wetb'], errors='coerce')\n",
    "irish_rain['dewpt'] = pd.to_numeric(irish_rain['dewpt'], errors='coerce')\n",
    "irish_rain['vappr'] = pd.to_numeric(irish_rain['vappr'], errors='coerce')\n",
    "irish_rain['rhum'] = pd.to_numeric(irish_rain['rhum'], errors='coerce')\n",
    "irish_rain['msl'] = pd.to_numeric(irish_rain['msl'], errors='coerce')\n",
    "irish_rain['clamt'] = pd.to_numeric(irish_rain['clamt'], errors='coerce')\n",
    "\n",
    "# Print data types of all columns to confirm they are numerical\n",
    "print(irish_rain.dtypes)"
   ]
  },
  {
   "cell_type": "markdown",
   "id": "7ddf51c2",
   "metadata": {},
   "source": [
    "### Scaling the data"
   ]
  },
  {
   "cell_type": "code",
   "execution_count": 43,
   "id": "4933f1dd",
   "metadata": {},
   "outputs": [
    {
     "name": "stdout",
     "output_type": "stream",
     "text": [
      "['latitude', 'longitude', 'rain', 'temp', 'wetb', 'dewpt', 'vappr', 'rhum', 'msl', 'wdsp', 'wddir', 'sun', 'vis', 'clht', 'clamt']\n"
     ]
    }
   ],
   "source": [
    "# Select the numerical columns\n",
    "num_cols = irish_rain.select_dtypes(include=['float64', 'int64']).columns.tolist()\n",
    "\n",
    "print(num_cols)"
   ]
  },
  {
   "cell_type": "code",
   "execution_count": 44,
   "id": "31bd7c12",
   "metadata": {},
   "outputs": [],
   "source": [
    "from sklearn.preprocessing import StandardScaler\n",
    "\n",
    "# Select the columns to scale\n",
    "cols_to_scale = ['latitude', 'longitude', 'rain', 'temp', 'wetb', 'dewpt', 'vappr', 'rhum', 'msl', 'wdsp', 'wddir', 'sun', 'vis', 'clht', 'clamt']\n",
    "\n",
    "# Create a StandardScaler object\n",
    "scaler = StandardScaler()\n",
    "\n",
    "# Scale the selected columns\n",
    "irish_rain[cols_to_scale] = scaler.fit_transform(irish_rain[cols_to_scale])"
   ]
  },
  {
   "cell_type": "code",
   "execution_count": 45,
   "id": "5522e814",
   "metadata": {},
   "outputs": [
    {
     "name": "stdout",
     "output_type": "stream",
     "text": [
      "           latitude     longitude          rain          temp          wetb   \n",
      "count  4.765000e+03  4.765000e+03  4.765000e+03  4.765000e+03  4.765000e+03  \\\n",
      "mean   5.055068e-16 -6.165990e-16  4.026160e-17 -4.111903e-16  1.282407e-16   \n",
      "std    1.000105e+00  1.000105e+00  1.000105e+00  1.000105e+00  1.000105e+00   \n",
      "min   -1.783717e+00 -1.657198e+00 -2.599409e-01 -3.378197e+00 -3.657390e+00   \n",
      "25%   -9.438219e-01 -6.562559e-01 -2.599409e-01 -6.894210e-01 -6.882037e-01   \n",
      "50%    1.453851e-01 -7.157128e-02 -2.599409e-01  3.040871e-02  5.993766e-02   \n",
      "75%    6.991846e-01  6.935716e-01 -2.599409e-01  7.078955e-01  7.613202e-01   \n",
      "max    2.197100e+00  1.550949e+00  1.848868e+01  3.693072e+00  2.701812e+00   \n",
      "\n",
      "              dewpt         vappr          rhum           msl          wdsp   \n",
      "count  4.765000e+03  4.765000e+03  4.765000e+03  4.765000e+03  4.765000e+03  \\\n",
      "mean   2.967429e-16 -5.099803e-16  2.982341e-18 -1.113904e-15 -2.534990e-17   \n",
      "std    1.000105e+00  1.000105e+00  1.000105e+00  1.000105e+00  1.000105e+00   \n",
      "min   -3.951907e+00 -3.381038e+00 -7.086518e+00 -4.561164e+00 -1.598277e+00   \n",
      "25%   -7.219526e-01 -7.854772e-01 -5.592981e-01 -6.414854e-01 -7.654951e-01   \n",
      "50%    6.859555e-02 -4.846607e-02  2.036237e-01  7.764926e-02 -9.926968e-02   \n",
      "75%    7.462083e-01  6.885451e-01  7.970073e-01  7.256607e-01  5.669557e-01   \n",
      "max    2.598350e+00  3.540458e+00  1.390391e+00  2.582767e+00  5.063977e+00   \n",
      "\n",
      "              wddir           sun           vis          clht         clamt  \n",
      "count  4.765000e+03  4.765000e+03  4.765000e+03  4.765000e+03  4.765000e+03  \n",
      "mean   1.401700e-16  6.896663e-17  3.384957e-16  1.118378e-17 -3.161281e-16  \n",
      "std    1.000105e+00  1.000105e+00  1.000105e+00  1.000105e+00  1.000105e+00  \n",
      "min   -2.302717e+00 -2.930052e-01 -2.763725e+00 -7.572361e-01 -4.102757e+00  \n",
      "25%   -7.085303e-01 -2.930052e-01  3.695560e-16 -6.843809e-01  2.922541e-01  \n",
      "50%    8.856330e-02 -2.930052e-01  3.695560e-16 -5.933120e-01  2.922541e-01  \n",
      "75%    7.717864e-01 -2.930052e-01  3.695560e-16  5.471626e-01  2.922541e-01  \n",
      "max    1.796621e+00  4.395275e+00  4.844824e+00  2.154056e+00  9.201128e-01  \n"
     ]
    }
   ],
   "source": [
    "# Print the summary statistics of the scaled columns\n",
    "print(irish_rain[cols_to_scale].describe())"
   ]
  },
  {
   "cell_type": "markdown",
   "id": "749c6b7f",
   "metadata": {},
   "source": [
    "The `mean` values of all the columns are close to 0, indicating that the columns are centered around 0 after scaling. The `std` values of all the columns are close to 1, indicating that the columns have a similar scale after scaling."
   ]
  },
  {
   "cell_type": "markdown",
   "id": "c80cd0cd",
   "metadata": {},
   "source": [
    "### Categorical data"
   ]
  },
  {
   "cell_type": "code",
   "execution_count": 46,
   "id": "84e5a345",
   "metadata": {},
   "outputs": [],
   "source": [
    "irish_rain = pd.get_dummies(irish_rain, columns=['county', 'station'], prefix='', prefix_sep='')\n"
   ]
  },
  {
   "cell_type": "markdown",
   "id": "9d0d9219",
   "metadata": {},
   "source": [
    "### Ensure the data is spaced evenly in time "
   ]
  },
  {
   "cell_type": "code",
   "execution_count": 47,
   "id": "99afb028",
   "metadata": {},
   "outputs": [],
   "source": [
    "# Use the resample method\n",
    "irish_rain = irish_rain.resample('H').mean()"
   ]
  },
  {
   "cell_type": "code",
   "execution_count": 48,
   "id": "445ef0c1",
   "metadata": {},
   "outputs": [],
   "source": [
    "# Interpolate missing values\n",
    "irish_rain = irish_rain.interpolate(method='linear')"
   ]
  },
  {
   "cell_type": "markdown",
   "id": "1e464737",
   "metadata": {},
   "source": [
    "## Baseline Model"
   ]
  },
  {
   "cell_type": "code",
   "execution_count": 53,
   "id": "d19a0b88",
   "metadata": {},
   "outputs": [
    {
     "name": "stdout",
     "output_type": "stream",
     "text": [
      "RMSE: 0.34 mm\n"
     ]
    }
   ],
   "source": [
    "from sklearn.model_selection import train_test_split\n",
    "from sklearn.metrics import mean_squared_error\n",
    "from sklearn.linear_model import LinearRegression\n",
    "\n",
    "# Define the target variable\n",
    "target = 'rain'\n",
    "\n",
    "# Define the lagged features for the different time intervals\n",
    "lags = [12, 24, 36, 48]\n",
    "\n",
    "for lag in lags:\n",
    "    irish_rain[f'{target}_lag{lag}'] = irish_rain[target].shift(lag)\n",
    "\n",
    "# Remove rows with missing values\n",
    "irish_rain.dropna(inplace=True)\n",
    "\n",
    "# Split the data into training and testing sets\n",
    "X = irish_rain.drop(columns=target)\n",
    "y = irish_rain[target]\n",
    "X_train, X_test, y_train, y_test = train_test_split(X, y, test_size=0.2, random_state=42)\n",
    "\n",
    "# Fit a linear regression model to the training data\n",
    "model = LinearRegression()\n",
    "model.fit(X_train, y_train)\n",
    "\n",
    "# Make predictions on the test data\n",
    "y_pred = model.predict(X_test)\n",
    "\n",
    "# Calculate the mean squared error (MSE) in mm^2\n",
    "mse = mean_squared_error(y_test, y_pred)\n",
    "\n",
    "# Calculate the root mean squared error (RMSE) in mm\n",
    "rmse = np.sqrt(mse)\n",
    "print(f\"RMSE: {rmse:.2f} mm\")\n"
   ]
  },
  {
   "cell_type": "markdown",
   "id": "ec823ddf",
   "metadata": {},
   "source": [
    "### What are the most important features?"
   ]
  },
  {
   "cell_type": "code",
   "execution_count": 54,
   "id": "678592e3",
   "metadata": {},
   "outputs": [
    {
     "name": "stdout",
     "output_type": "stream",
     "text": [
      "latitude: 0.0044\n",
      "longitude: 0.0040\n",
      "temp: 0.0026\n",
      "wetb: 0.0058\n",
      "dewpt: 0.0019\n",
      "vappr: 0.0067\n",
      "rhum: 0.0135\n",
      "msl: 0.0059\n",
      "wdsp: 0.0069\n",
      "wddir: 0.0081\n",
      "sun: 0.0012\n",
      "vis: 0.0128\n",
      "clht: 0.0057\n",
      "clamt: 0.0016\n",
      "Carlow: 0.0003\n",
      "Cavan: 0.0017\n",
      "Clare: 0.0012\n",
      "Cork: 0.0027\n",
      "Donegal: 0.0003\n",
      "Dublin: 0.0008\n",
      "Galway: 0.0009\n",
      "Kerry: 0.0003\n",
      "Mayo: 0.0014\n",
      "Meath: 0.0003\n",
      "Roscommon: 0.0003\n",
      "Sligo: 0.0002\n",
      "Tipperary: 0.0003\n",
      "Westmeath: 0.0015\n",
      "Wexford: 0.0014\n",
      "ATHENRY: 0.0007\n",
      "BALLYHAISE: 0.0026\n",
      "BELMULLET: 0.0013\n",
      "CASEMENT: 0.0004\n",
      "CLAREMORRIS: 0.0013\n",
      "CORK AIRPORT: 0.0006\n",
      "DUBLIN AIRPORT: 0.0004\n",
      "DUNSANY: 0.0001\n",
      "FINNER: 0.0002\n",
      "GURTEEN: 0.0006\n",
      "JOHNSTOWNII: 0.0009\n",
      "KNOCK AIRPORT: 0.0003\n",
      "MACE HEAD: 0.0002\n",
      "MALIN HEAD: 0.0008\n",
      "MARKREE: 0.0021\n",
      "MOORE PARK: 0.0012\n",
      "MT DILLON: 0.0008\n",
      "MULLINGAR: 0.0012\n",
      "NEWPORT: 0.0009\n",
      "OAK PARK: 0.0021\n",
      "PHOENIX PARK: 0.0004\n",
      "ROCHES POINT: 0.0009\n",
      "SHANNON AIRPORT: 0.0002\n",
      "SherkinIsland: 0.0004\n",
      "VALENTIA OBSERVATORY: 0.0012\n",
      "rain_lag12: 0.8523\n",
      "rain_lag24: 0.0242\n",
      "rain_lag36: 0.0047\n",
      "rain_lag48: 0.0022\n"
     ]
    }
   ],
   "source": [
    "from sklearn.tree import DecisionTreeRegressor\n",
    "\n",
    "# Instantiate a decision tree regressor\n",
    "model = DecisionTreeRegressor()\n",
    "\n",
    "# Fit the model to the training data\n",
    "model.fit(X_train, y_train)\n",
    "\n",
    "# Compute feature importances\n",
    "importances = model.feature_importances_\n",
    "\n",
    "# Print the feature importances\n",
    "for feature, importance in zip(X_train.columns, importances):\n",
    "    print(f\"{feature}: {importance:.4f}\")"
   ]
  },
  {
   "cell_type": "markdown",
   "id": "c9aa3188",
   "metadata": {},
   "source": [
    "## 1st iteration"
   ]
  },
  {
   "cell_type": "markdown",
   "id": "d1dcdd73",
   "metadata": {},
   "source": [
    "Start with top 7 features: `latitude`, `longitude`, `temp`, `wetb`, `dewpt`, `vappr`, `rhum`"
   ]
  },
  {
   "cell_type": "code",
   "execution_count": 138,
   "id": "c5c703cf",
   "metadata": {},
   "outputs": [
    {
     "name": "stdout",
     "output_type": "stream",
     "text": [
      "RMSE for 12h: 0.88 mm\n",
      "RMSE for 24h: 0.89 mm\n",
      "RMSE for 36h: 0.90 mm\n",
      "RMSE for 48h: 0.90 mm\n"
     ]
    }
   ],
   "source": [
    "import pandas as pd\n",
    "import numpy as np\n",
    "from sklearn.linear_model import LinearRegression\n",
    "from sklearn.metrics import mean_squared_error\n",
    "\n",
    "# Select the top 7 features\n",
    "features = ['latitude', 'longitude', 'temp', 'wetb', 'dewpt', 'vappr', 'rhum']\n",
    "\n",
    "# Create the lagged rain features\n",
    "lags = [12, 24, 36, 48]\n",
    "for lag in lags:\n",
    "    irish_rain[f'rain_lag{lag}'] = irish_rain['rain'].shift(lag)\n",
    "\n",
    "# Drop the rows with missing values\n",
    "irish_rain.dropna(inplace=True)\n",
    "\n",
    "# Split the data into training and testing sets\n",
    "train_size = int(len(irish_rain) * 0.8)\n",
    "train = irish_rain[:train_size]\n",
    "test = irish_rain[train_size:]\n",
    "\n",
    "# Train the linear regression model\n",
    "lr = LinearRegression()\n",
    "lr.fit(train[features], train['rain'])\n",
    "\n",
    "# Make predictions on the test set\n",
    "y_pred = lr.predict(test[features])\n",
    "\n",
    "# Calculate the mean squared error for each time interval\n",
    "mse_12h = mean_squared_error(test['rain_lag12'], y_pred)\n",
    "mse_24h = mean_squared_error(test['rain_lag24'], y_pred)\n",
    "mse_36h = mean_squared_error(test['rain_lag36'], y_pred)\n",
    "mse_48h = mean_squared_error(test['rain_lag48'], y_pred)\n",
    "\n",
    "# Calculate the root mean squared error for each time interval in mm\n",
    "rmse_12h = np.sqrt(mse_12h)\n",
    "rmse_24h = np.sqrt(mse_24h)\n",
    "rmse_36h = np.sqrt(mse_36h)\n",
    "rmse_48h = np.sqrt(mse_48h)\n",
    "\n",
    "# Print the RMSE for each time interval in mm\n",
    "print(f\"RMSE for 12h: {rmse_12h:.2f} mm\")\n",
    "print(f\"RMSE for 24h: {rmse_24h:.2f} mm\")\n",
    "print(f\"RMSE for 36h: {rmse_36h:.2f} mm\")\n",
    "print(f\"RMSE for 48h: {rmse_48h:.2f} mm\")"
   ]
  },
  {
   "cell_type": "code",
   "execution_count": null,
   "id": "c8428f80",
   "metadata": {},
   "outputs": [],
   "source": []
  }
 ],
 "metadata": {
  "kernelspec": {
   "display_name": "Python 3 (ipykernel)",
   "language": "python",
   "name": "python3"
  },
  "language_info": {
   "codemirror_mode": {
    "name": "ipython",
    "version": 3
   },
   "file_extension": ".py",
   "mimetype": "text/x-python",
   "name": "python",
   "nbconvert_exporter": "python",
   "pygments_lexer": "ipython3",
   "version": "3.9.16"
  }
 },
 "nbformat": 4,
 "nbformat_minor": 5
}
